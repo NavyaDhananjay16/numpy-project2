{
  "cells": [
    {
      "cell_type": "code",
      "execution_count": null,
      "metadata": {
        "id": "pu-mKDe4eTlt"
      },
      "outputs": [],
      "source": [
        "# Numpy Mathematical Calculator\n",
        "\n",
        "## Objective:\n",
        "\n",
        "To build a Python-based calculator using the *NumPy* library that performs:\n",
        "\n",
        "- Basic arithmetic operations\n",
        "- Statistical analysis\n",
        "- Array manipulation\n",
        "\n",
        "This project helps students understand how NumPy is used in real-world numerical computing tasks.\n",
        "\n",
        "---\n",
        "\n",
        "## Key Features:\n",
        "\n",
        "### 1. Basic Arithmetic Operations\n",
        "\n",
        "- Addition, Subtraction, Multiplication, Division\n",
        "- Power operations between two arrays\n",
        "\n",
        "### 2. Statistical Operations\n",
        "\n",
        "- Mean, Median, Standard Deviation, Variance\n",
        "- Minimum, Maximum, Sum, Product\n",
        "- Shape, Size, and Data Type\n",
        "\n",
        "### 3. Array Manipulation\n",
        "\n",
        "- Reshaping arrays (when possible)\n",
        "- Sorting and Reverse Sorting\n",
        "- Unique value extraction\n",
        "- Accessing first and last elements\n",
        "- Filtering values greater than the mean"
      ]
    },
    {
      "cell_type": "code",
      "execution_count": null,
      "metadata": {
        "id": "HWrueYSjdKY-"
      },
      "outputs": [],
      "source": [
        "import numpy as np"
      ]
    },
    {
      "cell_type": "code",
      "execution_count": 4,
      "metadata": {
        "colab": {
          "base_uri": "https://localhost:8080/",
          "height": 738
        },
        "id": "_1D2ot8ndQt4",
        "outputId": "d1a561ad-4d95-451a-bd80-664c3dafda37"
      },
      "outputs": [
        {
          "metadata": {
            "tags": null
          },
          "name": "stdout",
          "output_type": "stream",
          "text": [
            "============================================\n",
            "       Numpy MATHAMETHICAL CALCUKATOR\n",
            "=============================================\n",
            "\n",
            "\n",
            "********** Choose anyone to perfome calculation **********\n",
            "1.ARITHMETIC OPERATIONS\n",
            "2.STATISTICAL OPERATIONS\n",
            "3.ARRAY MANUPULATION\n",
            "4.EXIT\n",
            "[1 2]\n",
            "[2 3]\n",
            "addition         : [3 5]\n",
            "subraction       : [-1 -1]\n",
            "multiplication   : [2 6]\n",
            "division         : [0.5        0.66666667]\n",
            "floorDivision    : [0 0]\n",
            "modulusDivision  : [1 2]\n",
            "exponensial      : [1 8]\n",
            "************** END ****************\n",
            "************** END ****************\n",
            "************** END ****************\n"
          ]
        },
        {
          "output_type": "error",
          "ename": "KeyboardInterrupt",
          "evalue": "Interrupted by user",
          "traceback": [
            "\u001b[0;31m---------------------------------------------------------------------------\u001b[0m",
            "\u001b[0;31mKeyboardInterrupt\u001b[0m                         Traceback (most recent call last)",
            "\u001b[0;32m/tmp/ipython-input-202389314.py\u001b[0m in \u001b[0;36m<cell line: 0>\u001b[0;34m()\u001b[0m\n\u001b[1;32m     75\u001b[0m \u001b[0;34m\u001b[0m\u001b[0m\n\u001b[1;32m     76\u001b[0m \u001b[0;32mwhile\u001b[0m \u001b[0;32mTrue\u001b[0m\u001b[0;34m:\u001b[0m\u001b[0;34m\u001b[0m\u001b[0;34m\u001b[0m\u001b[0m\n\u001b[0;32m---> 77\u001b[0;31m     \u001b[0mn\u001b[0m\u001b[0;34m=\u001b[0m\u001b[0mint\u001b[0m\u001b[0;34m(\u001b[0m\u001b[0minput\u001b[0m\u001b[0;34m(\u001b[0m\u001b[0;34m)\u001b[0m\u001b[0;34m)\u001b[0m\u001b[0;34m\u001b[0m\u001b[0;34m\u001b[0m\u001b[0m\n\u001b[0m\u001b[1;32m     78\u001b[0m     \u001b[0;32mif\u001b[0m \u001b[0mn\u001b[0m\u001b[0;34m<\u001b[0m\u001b[0;36m4\u001b[0m\u001b[0;34m:\u001b[0m\u001b[0;34m\u001b[0m\u001b[0;34m\u001b[0m\u001b[0m\n\u001b[1;32m     79\u001b[0m         \u001b[0mChoose\u001b[0m\u001b[0;34m(\u001b[0m\u001b[0mn\u001b[0m\u001b[0;34m)\u001b[0m\u001b[0;34m\u001b[0m\u001b[0;34m\u001b[0m\u001b[0m\n",
            "\u001b[0;32m/usr/local/lib/python3.12/dist-packages/ipykernel/kernelbase.py\u001b[0m in \u001b[0;36mraw_input\u001b[0;34m(self, prompt)\u001b[0m\n\u001b[1;32m   1175\u001b[0m                 \u001b[0;34m\"raw_input was called, but this frontend does not support input requests.\"\u001b[0m\u001b[0;34m\u001b[0m\u001b[0;34m\u001b[0m\u001b[0m\n\u001b[1;32m   1176\u001b[0m             )\n\u001b[0;32m-> 1177\u001b[0;31m         return self._input_request(\n\u001b[0m\u001b[1;32m   1178\u001b[0m             \u001b[0mstr\u001b[0m\u001b[0;34m(\u001b[0m\u001b[0mprompt\u001b[0m\u001b[0;34m)\u001b[0m\u001b[0;34m,\u001b[0m\u001b[0;34m\u001b[0m\u001b[0;34m\u001b[0m\u001b[0m\n\u001b[1;32m   1179\u001b[0m             \u001b[0mself\u001b[0m\u001b[0;34m.\u001b[0m\u001b[0m_parent_ident\u001b[0m\u001b[0;34m[\u001b[0m\u001b[0;34m\"shell\"\u001b[0m\u001b[0;34m]\u001b[0m\u001b[0;34m,\u001b[0m\u001b[0;34m\u001b[0m\u001b[0;34m\u001b[0m\u001b[0m\n",
            "\u001b[0;32m/usr/local/lib/python3.12/dist-packages/ipykernel/kernelbase.py\u001b[0m in \u001b[0;36m_input_request\u001b[0;34m(self, prompt, ident, parent, password)\u001b[0m\n\u001b[1;32m   1217\u001b[0m             \u001b[0;32mexcept\u001b[0m \u001b[0mKeyboardInterrupt\u001b[0m\u001b[0;34m:\u001b[0m\u001b[0;34m\u001b[0m\u001b[0;34m\u001b[0m\u001b[0m\n\u001b[1;32m   1218\u001b[0m                 \u001b[0;31m# re-raise KeyboardInterrupt, to truncate traceback\u001b[0m\u001b[0;34m\u001b[0m\u001b[0;34m\u001b[0m\u001b[0m\n\u001b[0;32m-> 1219\u001b[0;31m                 \u001b[0;32mraise\u001b[0m \u001b[0mKeyboardInterrupt\u001b[0m\u001b[0;34m(\u001b[0m\u001b[0;34m\"Interrupted by user\"\u001b[0m\u001b[0;34m)\u001b[0m \u001b[0;32mfrom\u001b[0m \u001b[0;32mNone\u001b[0m\u001b[0;34m\u001b[0m\u001b[0;34m\u001b[0m\u001b[0m\n\u001b[0m\u001b[1;32m   1220\u001b[0m             \u001b[0;32mexcept\u001b[0m \u001b[0mException\u001b[0m\u001b[0;34m:\u001b[0m\u001b[0;34m\u001b[0m\u001b[0;34m\u001b[0m\u001b[0m\n\u001b[1;32m   1221\u001b[0m                 \u001b[0mself\u001b[0m\u001b[0;34m.\u001b[0m\u001b[0mlog\u001b[0m\u001b[0;34m.\u001b[0m\u001b[0mwarning\u001b[0m\u001b[0;34m(\u001b[0m\u001b[0;34m\"Invalid Message:\"\u001b[0m\u001b[0;34m,\u001b[0m \u001b[0mexc_info\u001b[0m\u001b[0;34m=\u001b[0m\u001b[0;32mTrue\u001b[0m\u001b[0;34m)\u001b[0m\u001b[0;34m\u001b[0m\u001b[0;34m\u001b[0m\u001b[0m\n",
            "\u001b[0;31mKeyboardInterrupt\u001b[0m: Interrupted by user"
          ]
        }
      ],
      "source": [
        "from itertools import combinations\n",
        "print(\"============================================\")\n",
        "print(\"       Numpy MATHAMETHICAL CALCUKATOR\")\n",
        "print(\"=============================================\")\n",
        "print()\n",
        "print()\n",
        "print(\"********** Choose anyone to perfome calculation **********\")\n",
        "print(\"1.ARITHMETIC OPERATIONS\")\n",
        "print(\"2.STATISTICAL OPERATIONS\")\n",
        "print(\"3.ARRAY MANUPULATION\")\n",
        "print(\"4.EXIT\")\n",
        "\n",
        "def ArrayOperations(n):\n",
        "    n1=input(\"enter the arr1 ele with space\")\n",
        "    arr1=np.array([int(i) for i in n1.split()])\n",
        "    n2=input(\"enter the arr2 ele with space\")\n",
        "    arr2=np.array([int(i) for i in n2.split()])\n",
        "    print(arr1)\n",
        "    print(arr2)\n",
        "    print(f\"addition         : {arr1+arr2}\")\n",
        "    print(f\"subraction       : {arr1-arr2}\")\n",
        "    print(f\"multiplication   : {arr1*arr2}\")\n",
        "    print(f\"division         : {arr1/arr2}\")\n",
        "    print(f\"floorDivision    : {arr1//arr2}\")\n",
        "    print(f\"modulusDivision  : {arr1%arr2}\")\n",
        "    print(f\"exponensial      : {arr1**arr2}\")\n",
        "\n",
        "    print(\"************** END ****************\")\n",
        "\n",
        "    def StatisticalOperation(n):\n",
        "      n1=input(\"enter the arr1 ele with space\")\n",
        "      arr1=np.array([int(i) for i in n1.split()])\n",
        "      print(f\"Mean : {(arr1).mean()}\")\n",
        "      print(f\"Median : {np.median(arr1)}\")\n",
        "      print(f\"standard diviation : {np.std(arr1)}\")\n",
        "      print(f\"veriance : {np.var(arr1)}\")\n",
        "      print(f\"minimum value : {min(arr1)}\")\n",
        "      print(f\"Maximum value : {max(arr1)}\")\n",
        "      print(f\"sum : {sum(arr1)}\")\n",
        "      print(f\"product : {np.prod(arr1)}\")\n",
        "      print(f\"Shape : {np.shape(arr1)}\")\n",
        "      print(f\"size : {np.size(arr1)}\")\n",
        "      print(f\"datatype : {arr1.dtype}\")\n",
        "\n",
        "    print(\"************** END ****************\")\n",
        "\n",
        "    def ArrayManu(n):\n",
        "      n1=input(\"enter the arr1 ele with space\")\n",
        "      arr1=np.array([int(i) for i in n1.split()])\n",
        "      ress = int(input(\"enter the reshape dimension 2 or 3\"))\n",
        "      if ress==2 or 1:\n",
        "        row=int(input(\"enter the rowsize\"))\n",
        "        col=int(input(\"enter the columnsize\"))\n",
        "        print(f\"reshaping:{arr1.reshape(row,col)}\")\n",
        "      else:\n",
        "        row=int(input(\"enter the rowsize\"))\n",
        "        col=int(input(\"enter the columnsize\"))\n",
        "        ele=int(input(\"enter the elesize\"))\n",
        "        print(f\"reshaping:{arr1.reshape(row,col,ele)}\")\n",
        "      print(f\"short {np.short(arr1)}\")\n",
        "      print(f\"unique {np.unique(arr1)}\")\n",
        "      print(f\"reshaping {arr1}\")\n",
        "      print(f\"array 1st ele {arr1[0]}\")\n",
        "      print(f\"array last ele {arr1[len(arr1)-1]}\")\n",
        "\n",
        "    print(\"************** END ****************\")\n",
        "def Choose(b):\n",
        "    n=int(b)\n",
        "    if n==1:\n",
        "        ArrayOperations(n)\n",
        "    elif n==2:\n",
        "        StatisticalOperation(n)\n",
        "    elif n==3:\n",
        "        ArrayManu(n)\n",
        "\n",
        "while True:\n",
        "    n=int(input())\n",
        "    if n<4:\n",
        "        Choose(n)\n",
        "    else:\n",
        "        print(\"********** Exit Completed *********\")\n",
        "        break"
      ]
    }
  ],
  "metadata": {
    "colab": {
      "provenance": []
    },
    "kernelspec": {
      "display_name": "Python 3",
      "name": "python3"
    },
    "language_info": {
      "name": "python"
    }
  },
  "nbformat": 4,
  "nbformat_minor": 0
}